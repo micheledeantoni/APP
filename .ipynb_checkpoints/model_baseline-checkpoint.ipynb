{
 "cells": [
  {
   "cell_type": "code",
   "execution_count": 10,
   "id": "e31d7e1a",
   "metadata": {},
   "outputs": [
    {
     "ename": "ModuleNotFoundError",
     "evalue": "No module named 'packagename'",
     "output_type": "error",
     "traceback": [
      "\u001b[0;31m---------------------------------------------------------------------------\u001b[0m",
      "\u001b[0;31mModuleNotFoundError\u001b[0m                       Traceback (most recent call last)",
      "Cell \u001b[0;32mIn [10], line 1\u001b[0m\n\u001b[0;32m----> 1\u001b[0m \u001b[38;5;28;01mfrom\u001b[39;00m \u001b[38;5;21;01mpackagename\u001b[39;00m \u001b[38;5;28;01mimport\u001b[39;00m preprocessor\n\u001b[1;32m      3\u001b[0m df \u001b[38;5;241m=\u001b[39m preprocessor\u001b[38;5;241m.\u001b[39mload_data_fifa23\n\u001b[1;32m      5\u001b[0m df\u001b[38;5;241m.\u001b[39mhead()\n",
      "\u001b[0;31mModuleNotFoundError\u001b[0m: No module named 'packagename'"
     ]
    }
   ],
   "source": [
    "from packagename import preprocessor\n",
    "\n",
    "df = preprocessor.load_data_fifa23\n",
    "\n",
    "df.head()"
   ]
  },
  {
   "cell_type": "code",
   "execution_count": null,
   "id": "57233ca1",
   "metadata": {},
   "outputs": [],
   "source": [
    "import pandas as pd\n",
    "\n",
    "df = pd.read_csv('players_22.csv', low_memory = False)"
   ]
  },
  {
   "cell_type": "code",
   "execution_count": null,
   "id": "70f0a063",
   "metadata": {},
   "outputs": [],
   "source": [
    "from package"
   ]
  },
  {
   "cell_type": "markdown",
   "id": "21a9cba7",
   "metadata": {},
   "source": [
    "# Load Data"
   ]
  },
  {
   "cell_type": "code",
   "execution_count": null,
   "id": "917c7cea",
   "metadata": {},
   "outputs": [],
   "source": []
  },
  {
   "cell_type": "markdown",
   "id": "43e8cb0c",
   "metadata": {},
   "source": [
    "# Preprocessed Data"
   ]
  },
  {
   "cell_type": "code",
   "execution_count": null,
   "id": "6c8abb0e",
   "metadata": {},
   "outputs": [],
   "source": [
    "\n",
    "X = df.drop('')\n",
    "\n",
    "df_features = df.columns\n",
    "\n",
    "from sklearn.preprocessing import RobustScaler\n",
    "scaler = RobustScaler()\n",
    "scaler.fit(df)\n",
    "\n",
    "X = pd.DataFrame(scaler.transform(X), columns=df_features)\n",
    "X"
   ]
  },
  {
   "cell_type": "markdown",
   "id": "ae5069c6",
   "metadata": {},
   "source": [
    "# PCA fit and Transform (Dimensionality)"
   ]
  },
  {
   "cell_type": "code",
   "execution_count": null,
   "id": "d8fce08d",
   "metadata": {},
   "outputs": [],
   "source": [
    "from sklearn.decomposition import PCA\n",
    "\n",
    "pca = PCA()\n",
    "pca.fit(df)"
   ]
  },
  {
   "cell_type": "code",
   "execution_count": null,
   "id": "83e826ee",
   "metadata": {},
   "outputs": [],
   "source": [
    "X_proj = pca.transform(X)\n",
    "X_proj = pd.DataFrame(X_proj, columns=[f'PC{i}' for i in range(1, 14)])  # rearrange order\n",
    "X_proj"
   ]
  },
  {
   "cell_type": "markdown",
   "id": "792ede62",
   "metadata": {},
   "source": [
    "## K-Means Loss Function and Hyperparameters"
   ]
  },
  {
   "cell_type": "markdown",
   "id": "069ae8be",
   "metadata": {},
   "source": [
    "Choose K such that the inertia (Kmeans().inertia_) is minimized\n",
    "Use the elbow method here as well"
   ]
  },
  {
   "cell_type": "code",
   "execution_count": null,
   "id": "3cd38fef",
   "metadata": {},
   "outputs": [],
   "source": [
    "inertias = []\n",
    "ks = range(1,11)   # experiement with ranges\n",
    "\n",
    "for k in ks:\n",
    "    km_test = KMeans(n_clusters=k).fit(X)\n",
    "    inertias.append(km_test.inertia_)\n",
    "\n",
    "plt.plot(ks, inertias)\n",
    "plt.xlabel('k cluster number')"
   ]
  },
  {
   "cell_type": "code",
   "execution_count": null,
   "id": "225f5189",
   "metadata": {},
   "outputs": [],
   "source": [
    "from sklearn.cluster import KMeans\n",
    "\n",
    "# Fit K-means\n",
    "km = KMeans(n_clusters=3)\n",
    "km.fit(X_proj)"
   ]
  },
  {
   "cell_type": "code",
   "execution_count": null,
   "id": "ef33c1b3",
   "metadata": {},
   "outputs": [],
   "source": [
    "km.cluster_centers_.shape\n"
   ]
  },
  {
   "cell_type": "code",
   "execution_count": null,
   "id": "ba7578e5",
   "metadata": {},
   "outputs": [],
   "source": [
    "km.labels_\n"
   ]
  },
  {
   "cell_type": "code",
   "execution_count": null,
   "id": "2d552b34",
   "metadata": {},
   "outputs": [],
   "source": [
    "plt.scatter(X_proj.iloc[:,0], X_proj.iloc[:,1], c=km.labels_)\n",
    "plt.title('KMeans clustering'); plt.xlabel('PC 1'); plt.ylabel('PC 2');"
   ]
  },
  {
   "cell_type": "markdown",
   "id": "9bdf87c5",
   "metadata": {},
   "source": [
    "# Model Prediction Score"
   ]
  },
  {
   "cell_type": "code",
   "execution_count": null,
   "id": "437bfe6b",
   "metadata": {},
   "outputs": [],
   "source": [
    "# Fit a PCA with only 3 components\n",
    "pca3 = PCA(n_components=3).fit(X)\n",
    "\n",
    "# Project your data into 3 dimensions\n",
    "X_proj3 = pd.DataFrame(pca3.fit_transform(X), columns=['PC1', 'PC2', 'PC3'])\n",
    "\n",
    "# We have \"compressed\" our dataset in 3D\n",
    "X_proj3"
   ]
  },
  {
   "cell_type": "code",
   "execution_count": null,
   "id": "94df66c2",
   "metadata": {},
   "outputs": [],
   "source": [
    "from sklearn.linear_model import LogisticRegression\n",
    "from sklearn.model_selection import cross_val_score\n",
    "\n",
    "print(\"accuracy 3 PCs\")\n",
    "print(cross_val_score(LogisticRegression(), X_proj3, y, cv=5).mean())\n",
    "\n",
    "print(\"\\naccuracy all 11 initial features\")\n",
    "print(cross_val_score(LogisticRegression(), X, y, cv=5).mean())"
   ]
  },
  {
   "cell_type": "code",
   "execution_count": null,
   "id": "83849329",
   "metadata": {},
   "outputs": [],
   "source": []
  },
  {
   "cell_type": "code",
   "execution_count": null,
   "id": "0b1b9e31",
   "metadata": {},
   "outputs": [],
   "source": []
  },
  {
   "cell_type": "code",
   "execution_count": null,
   "id": "45e3d352",
   "metadata": {},
   "outputs": [],
   "source": []
  },
  {
   "cell_type": "code",
   "execution_count": null,
   "id": "9f4f637d",
   "metadata": {},
   "outputs": [],
   "source": []
  },
  {
   "cell_type": "code",
   "execution_count": null,
   "id": "4cab7aac",
   "metadata": {},
   "outputs": [],
   "source": [
    "from  import Preprocessor"
   ]
  }
 ],
 "metadata": {
  "kernelspec": {
   "display_name": "Python 3 (ipykernel)",
   "language": "python",
   "name": "python3"
  },
  "language_info": {
   "codemirror_mode": {
    "name": "ipython",
    "version": 3
   },
   "file_extension": ".py",
   "mimetype": "text/x-python",
   "name": "python",
   "nbconvert_exporter": "python",
   "pygments_lexer": "ipython3",
   "version": "3.10.6"
  },
  "toc": {
   "base_numbering": 1,
   "nav_menu": {},
   "number_sections": true,
   "sideBar": true,
   "skip_h1_title": false,
   "title_cell": "Table of Contents",
   "title_sidebar": "Contents",
   "toc_cell": false,
   "toc_position": {},
   "toc_section_display": true,
   "toc_window_display": false
  }
 },
 "nbformat": 4,
 "nbformat_minor": 5
}
