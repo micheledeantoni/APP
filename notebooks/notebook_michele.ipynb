{
 "cells": [
  {
   "cell_type": "code",
   "execution_count": 1,
   "metadata": {},
   "outputs": [],
   "source": [
    "import sys\n",
    "sys.path.append('/Users/michele/code/micheledeantoni/APP/back-end/')\n"
   ]
  },
  {
   "cell_type": "code",
   "execution_count": 2,
   "metadata": {},
   "outputs": [],
   "source": [
    "import pandas as pd\n",
    "import numpy as np\n",
    "import seaborn as sns\n",
    "import matplotlib.pyplot as plt\n",
    "from player_profiling import preprocessor\n"
   ]
  },
  {
   "cell_type": "code",
   "execution_count": 3,
   "metadata": {},
   "outputs": [],
   "source": [
    "data = preprocessor.load_data_fifa23()\n"
   ]
  },
  {
   "cell_type": "code",
   "execution_count": 4,
   "metadata": {},
   "outputs": [
    {
     "name": "stderr",
     "output_type": "stream",
     "text": [
      "/Users/michele/code/micheledeantoni/APP/back-end/player_profiling/preprocessor.py:60: SettingWithCopyWarning: \n",
      "A value is trying to be set on a copy of a slice from a DataFrame\n",
      "\n",
      "See the caveats in the documentation: https://pandas.pydata.org/pandas-docs/stable/user_guide/indexing.html#returning-a-view-versus-a-copy\n",
      "  characteristics['goalkeeping_speed'].fillna(0, inplace=True)\n"
     ]
    }
   ],
   "source": [
    "df =preprocessor.filter_data(data)\n",
    "trans = preprocessor.preprocess(df)\n"
   ]
  },
  {
   "cell_type": "code",
   "execution_count": 5,
   "metadata": {},
   "outputs": [
    {
     "data": {
      "text/html": [
       "<style>#sk-container-id-1 {color: black;}#sk-container-id-1 pre{padding: 0;}#sk-container-id-1 div.sk-toggleable {background-color: white;}#sk-container-id-1 label.sk-toggleable__label {cursor: pointer;display: block;width: 100%;margin-bottom: 0;padding: 0.3em;box-sizing: border-box;text-align: center;}#sk-container-id-1 label.sk-toggleable__label-arrow:before {content: \"▸\";float: left;margin-right: 0.25em;color: #696969;}#sk-container-id-1 label.sk-toggleable__label-arrow:hover:before {color: black;}#sk-container-id-1 div.sk-estimator:hover label.sk-toggleable__label-arrow:before {color: black;}#sk-container-id-1 div.sk-toggleable__content {max-height: 0;max-width: 0;overflow: hidden;text-align: left;background-color: #f0f8ff;}#sk-container-id-1 div.sk-toggleable__content pre {margin: 0.2em;color: black;border-radius: 0.25em;background-color: #f0f8ff;}#sk-container-id-1 input.sk-toggleable__control:checked~div.sk-toggleable__content {max-height: 200px;max-width: 100%;overflow: auto;}#sk-container-id-1 input.sk-toggleable__control:checked~label.sk-toggleable__label-arrow:before {content: \"▾\";}#sk-container-id-1 div.sk-estimator input.sk-toggleable__control:checked~label.sk-toggleable__label {background-color: #d4ebff;}#sk-container-id-1 div.sk-label input.sk-toggleable__control:checked~label.sk-toggleable__label {background-color: #d4ebff;}#sk-container-id-1 input.sk-hidden--visually {border: 0;clip: rect(1px 1px 1px 1px);clip: rect(1px, 1px, 1px, 1px);height: 1px;margin: -1px;overflow: hidden;padding: 0;position: absolute;width: 1px;}#sk-container-id-1 div.sk-estimator {font-family: monospace;background-color: #f0f8ff;border: 1px dotted black;border-radius: 0.25em;box-sizing: border-box;margin-bottom: 0.5em;}#sk-container-id-1 div.sk-estimator:hover {background-color: #d4ebff;}#sk-container-id-1 div.sk-parallel-item::after {content: \"\";width: 100%;border-bottom: 1px solid gray;flex-grow: 1;}#sk-container-id-1 div.sk-label:hover label.sk-toggleable__label {background-color: #d4ebff;}#sk-container-id-1 div.sk-serial::before {content: \"\";position: absolute;border-left: 1px solid gray;box-sizing: border-box;top: 0;bottom: 0;left: 50%;z-index: 0;}#sk-container-id-1 div.sk-serial {display: flex;flex-direction: column;align-items: center;background-color: white;padding-right: 0.2em;padding-left: 0.2em;position: relative;}#sk-container-id-1 div.sk-item {position: relative;z-index: 1;}#sk-container-id-1 div.sk-parallel {display: flex;align-items: stretch;justify-content: center;background-color: white;position: relative;}#sk-container-id-1 div.sk-item::before, #sk-container-id-1 div.sk-parallel-item::before {content: \"\";position: absolute;border-left: 1px solid gray;box-sizing: border-box;top: 0;bottom: 0;left: 50%;z-index: -1;}#sk-container-id-1 div.sk-parallel-item {display: flex;flex-direction: column;z-index: 1;position: relative;background-color: white;}#sk-container-id-1 div.sk-parallel-item:first-child::after {align-self: flex-end;width: 50%;}#sk-container-id-1 div.sk-parallel-item:last-child::after {align-self: flex-start;width: 50%;}#sk-container-id-1 div.sk-parallel-item:only-child::after {width: 0;}#sk-container-id-1 div.sk-dashed-wrapped {border: 1px dashed gray;margin: 0 0.4em 0.5em 0.4em;box-sizing: border-box;padding-bottom: 0.4em;background-color: white;}#sk-container-id-1 div.sk-label label {font-family: monospace;font-weight: bold;display: inline-block;line-height: 1.2em;}#sk-container-id-1 div.sk-label-container {text-align: center;}#sk-container-id-1 div.sk-container {/* jupyter's `normalize.less` sets `[hidden] { display: none; }` but bootstrap.min.css set `[hidden] { display: none !important; }` so we also need the `!important` here to be able to override the default hidden behavior on the sphinx rendered scikit-learn.org. See: https://github.com/scikit-learn/scikit-learn/issues/21755 */display: inline-block !important;position: relative;}#sk-container-id-1 div.sk-text-repr-fallback {display: none;}</style><div id=\"sk-container-id-1\" class=\"sk-top-container\"><div class=\"sk-text-repr-fallback\"><pre>PCA()</pre><b>In a Jupyter environment, please rerun this cell to show the HTML representation or trust the notebook. <br />On GitHub, the HTML representation is unable to render, please try loading this page with nbviewer.org.</b></div><div class=\"sk-container\" hidden><div class=\"sk-item\"><div class=\"sk-estimator sk-toggleable\"><input class=\"sk-toggleable__control sk-hidden--visually\" id=\"sk-estimator-id-1\" type=\"checkbox\" checked><label for=\"sk-estimator-id-1\" class=\"sk-toggleable__label sk-toggleable__label-arrow\">PCA</label><div class=\"sk-toggleable__content\"><pre>PCA()</pre></div></div></div></div></div>"
      ],
      "text/plain": [
       "PCA()"
      ]
     },
     "execution_count": 5,
     "metadata": {},
     "output_type": "execute_result"
    }
   ],
   "source": [
    "from sklearn.decomposition import PCA\n",
    "\n",
    "pca = PCA()\n",
    "pca.fit(trans)\n"
   ]
  },
  {
   "cell_type": "markdown",
   "metadata": {},
   "source": [
    "### Alternative with less PCAs"
   ]
  },
  {
   "cell_type": "markdown",
   "metadata": {},
   "source": [
    "## Try with tsne"
   ]
  },
  {
   "cell_type": "code",
   "execution_count": 6,
   "metadata": {},
   "outputs": [
    {
     "data": {
      "text/plain": [
       "array([[-26.521366  ,  -0.07008406,  11.613367  ],\n",
       "       [-27.949518  ,  -1.7409573 ,  16.272163  ],\n",
       "       [-28.066256  ,  -1.56851   ,  16.308311  ],\n",
       "       ...,\n",
       "       [  3.8455694 , -22.688475  ,  -5.0702515 ],\n",
       "       [  2.2495737 , -20.108086  , -13.406302  ],\n",
       "       [ 27.943071  ,   4.85977   , -12.663315  ]], dtype=float32)"
      ]
     },
     "execution_count": 6,
     "metadata": {},
     "output_type": "execute_result"
    }
   ],
   "source": [
    "from sklearn.manifold import TSNE\n",
    "# Run t-SNE\n",
    "tsne = TSNE(\n",
    "    n_components=3,\n",
    "    learning_rate='auto',\n",
    "    perplexity=30,\n",
    "    early_exaggeration=12,\n",
    "    init='pca'\n",
    ")\n",
    "X_tsne = tsne.fit_transform(trans)\n",
    "X_tsne\n"
   ]
  },
  {
   "cell_type": "code",
   "execution_count": 7,
   "metadata": {},
   "outputs": [
    {
     "name": "stderr",
     "output_type": "stream",
     "text": [
      "/Users/michele/.pyenv/versions/3.10.6/envs/APP/lib/python3.10/site-packages/sklearn/cluster/_kmeans.py:1416: FutureWarning: The default value of `n_init` will change from 10 to 'auto' in 1.4. Set the value of `n_init` explicitly to suppress the warning\n",
      "  super()._check_params_vs_input(X, default_n_init=10)\n"
     ]
    },
    {
     "data": {
      "text/html": [
       "<style>#sk-container-id-2 {color: black;}#sk-container-id-2 pre{padding: 0;}#sk-container-id-2 div.sk-toggleable {background-color: white;}#sk-container-id-2 label.sk-toggleable__label {cursor: pointer;display: block;width: 100%;margin-bottom: 0;padding: 0.3em;box-sizing: border-box;text-align: center;}#sk-container-id-2 label.sk-toggleable__label-arrow:before {content: \"▸\";float: left;margin-right: 0.25em;color: #696969;}#sk-container-id-2 label.sk-toggleable__label-arrow:hover:before {color: black;}#sk-container-id-2 div.sk-estimator:hover label.sk-toggleable__label-arrow:before {color: black;}#sk-container-id-2 div.sk-toggleable__content {max-height: 0;max-width: 0;overflow: hidden;text-align: left;background-color: #f0f8ff;}#sk-container-id-2 div.sk-toggleable__content pre {margin: 0.2em;color: black;border-radius: 0.25em;background-color: #f0f8ff;}#sk-container-id-2 input.sk-toggleable__control:checked~div.sk-toggleable__content {max-height: 200px;max-width: 100%;overflow: auto;}#sk-container-id-2 input.sk-toggleable__control:checked~label.sk-toggleable__label-arrow:before {content: \"▾\";}#sk-container-id-2 div.sk-estimator input.sk-toggleable__control:checked~label.sk-toggleable__label {background-color: #d4ebff;}#sk-container-id-2 div.sk-label input.sk-toggleable__control:checked~label.sk-toggleable__label {background-color: #d4ebff;}#sk-container-id-2 input.sk-hidden--visually {border: 0;clip: rect(1px 1px 1px 1px);clip: rect(1px, 1px, 1px, 1px);height: 1px;margin: -1px;overflow: hidden;padding: 0;position: absolute;width: 1px;}#sk-container-id-2 div.sk-estimator {font-family: monospace;background-color: #f0f8ff;border: 1px dotted black;border-radius: 0.25em;box-sizing: border-box;margin-bottom: 0.5em;}#sk-container-id-2 div.sk-estimator:hover {background-color: #d4ebff;}#sk-container-id-2 div.sk-parallel-item::after {content: \"\";width: 100%;border-bottom: 1px solid gray;flex-grow: 1;}#sk-container-id-2 div.sk-label:hover label.sk-toggleable__label {background-color: #d4ebff;}#sk-container-id-2 div.sk-serial::before {content: \"\";position: absolute;border-left: 1px solid gray;box-sizing: border-box;top: 0;bottom: 0;left: 50%;z-index: 0;}#sk-container-id-2 div.sk-serial {display: flex;flex-direction: column;align-items: center;background-color: white;padding-right: 0.2em;padding-left: 0.2em;position: relative;}#sk-container-id-2 div.sk-item {position: relative;z-index: 1;}#sk-container-id-2 div.sk-parallel {display: flex;align-items: stretch;justify-content: center;background-color: white;position: relative;}#sk-container-id-2 div.sk-item::before, #sk-container-id-2 div.sk-parallel-item::before {content: \"\";position: absolute;border-left: 1px solid gray;box-sizing: border-box;top: 0;bottom: 0;left: 50%;z-index: -1;}#sk-container-id-2 div.sk-parallel-item {display: flex;flex-direction: column;z-index: 1;position: relative;background-color: white;}#sk-container-id-2 div.sk-parallel-item:first-child::after {align-self: flex-end;width: 50%;}#sk-container-id-2 div.sk-parallel-item:last-child::after {align-self: flex-start;width: 50%;}#sk-container-id-2 div.sk-parallel-item:only-child::after {width: 0;}#sk-container-id-2 div.sk-dashed-wrapped {border: 1px dashed gray;margin: 0 0.4em 0.5em 0.4em;box-sizing: border-box;padding-bottom: 0.4em;background-color: white;}#sk-container-id-2 div.sk-label label {font-family: monospace;font-weight: bold;display: inline-block;line-height: 1.2em;}#sk-container-id-2 div.sk-label-container {text-align: center;}#sk-container-id-2 div.sk-container {/* jupyter's `normalize.less` sets `[hidden] { display: none; }` but bootstrap.min.css set `[hidden] { display: none !important; }` so we also need the `!important` here to be able to override the default hidden behavior on the sphinx rendered scikit-learn.org. See: https://github.com/scikit-learn/scikit-learn/issues/21755 */display: inline-block !important;position: relative;}#sk-container-id-2 div.sk-text-repr-fallback {display: none;}</style><div id=\"sk-container-id-2\" class=\"sk-top-container\"><div class=\"sk-text-repr-fallback\"><pre>KMeans(n_clusters=32)</pre><b>In a Jupyter environment, please rerun this cell to show the HTML representation or trust the notebook. <br />On GitHub, the HTML representation is unable to render, please try loading this page with nbviewer.org.</b></div><div class=\"sk-container\" hidden><div class=\"sk-item\"><div class=\"sk-estimator sk-toggleable\"><input class=\"sk-toggleable__control sk-hidden--visually\" id=\"sk-estimator-id-2\" type=\"checkbox\" checked><label for=\"sk-estimator-id-2\" class=\"sk-toggleable__label sk-toggleable__label-arrow\">KMeans</label><div class=\"sk-toggleable__content\"><pre>KMeans(n_clusters=32)</pre></div></div></div></div></div>"
      ],
      "text/plain": [
       "KMeans(n_clusters=32)"
      ]
     },
     "execution_count": 7,
     "metadata": {},
     "output_type": "execute_result"
    }
   ],
   "source": [
    "from sklearn.cluster import KMeans\n",
    "\n",
    "# Fit K-means\n",
    "km = KMeans(n_clusters=32)\n",
    "km.fit(X_tsne)\n"
   ]
  },
  {
   "cell_type": "code",
   "execution_count": 8,
   "metadata": {},
   "outputs": [
    {
     "data": {
      "text/plain": [
       "array([31, 31, 31, ..., 17, 17, 11], dtype=int32)"
      ]
     },
     "execution_count": 8,
     "metadata": {},
     "output_type": "execute_result"
    }
   ],
   "source": [
    "km.labels_\n"
   ]
  },
  {
   "cell_type": "code",
   "execution_count": 9,
   "metadata": {},
   "outputs": [],
   "source": [
    "data['label']= km.labels_\n"
   ]
  },
  {
   "cell_type": "code",
   "execution_count": 10,
   "metadata": {},
   "outputs": [
    {
     "name": "stdout",
     "output_type": "stream",
     "text": [
      "\n",
      "Label: 0\n",
      "Index: 468, Long Name: Mauro Wilney Arambarri Rosa, position CDM, CM\n",
      "Index: 603, Long Name: Adnan Claudiano Vidual Machado, position RB\n",
      "Index: 824, Long Name: 守田 英正, position CM, CDM\n",
      "Index: 984, Long Name: Victorio Martin Maia Padilha Jabim, position RB, RM\n",
      "Index: 986, Long Name: Murildo Kauê Cadete Teixeira, position LM\n",
      "\n",
      "Label: 1\n",
      "Index: 1019, Long Name: Musa Barrow, position CF, ST, LW\n",
      "Index: 1347, Long Name: Arnaud Kalimuendo-Muinga, position ST\n",
      "Index: 1353, Long Name: Hugo Ekitike, position ST\n",
      "Index: 1234, Long Name: Adilson Patrick Edrada Pereira, position CAM\n",
      "Index: 1648, Long Name: Estevão Daniel Formoso Serpa, position ST, CF\n",
      "\n",
      "Label: 2\n",
      "Index: 59016, Long Name: Mario Vušković, position CB\n",
      "Index: 3697, Long Name: Lorenzo Tonelli, position CB\n",
      "Index: 4058, Long Name: Erhan Mašović, position CB, CDM\n",
      "Index: 4064, Long Name: Kennedy Kofi Boateng, position CB\n",
      "Index: 4029, Long Name: Dara Joseph O'Shea, position CB, RB\n",
      "\n",
      "Label: 3\n",
      "Index: 853, Long Name: Héctor Alfredo Moreno Herrera, position CB\n",
      "Index: 983, Long Name: Rodrigo Éder Vuarte Ruiz, position CDM\n",
      "Index: 1158, Long Name: Carlos Roberto Izquierdoz, position CB\n",
      "Index: 1649, Long Name: Rafael Jorgino Cachoira Rebelo, position CB, CDM\n",
      "Index: 2123, Long Name: Caio Rodrigo Nunes Anjos, position CB, LB\n",
      "\n",
      "Label: 4\n",
      "Index: 632, Long Name: Pervis Josué Estupiñán Tenorio, position LB, LWB\n",
      "Index: 1341, Long Name: Zaidu Sanusi, position LB\n",
      "Index: 1321, Long Name: Vitaliy Mykolenko, position LB, LWB\n",
      "Index: 1557, Long Name: Joseba Zaldúa Bengoetxea, position RB\n",
      "Index: 1590, Long Name: Rico Henry, position LB, LWB\n",
      "\n",
      "Label: 5\n",
      "Index: 5243, Long Name: Nathaniel Mendez-Laing, position RM, LM\n",
      "Index: 5893, Long Name: Morgan Guilavogui, position RM, ST, RW\n",
      "Index: 5675, Long Name: Przemysław Płacheta, position LM\n",
      "Index: 6327, Long Name: Mikkel Kallesøe Andreasen, position RB, RM\n",
      "Index: 6607, Long Name: Marcel Bär, position ST, LM\n",
      "\n",
      "Label: 6\n",
      "Index: 2629, Long Name: Darío Filipe Esteiro Cortejo, position ST\n",
      "Index: 95343, Long Name: Dago Filipe Esteiro Cortejo, position ST\n",
      "Index: 5531, Long Name: Adão Dênis Salvador Vidigal, position ST, LW\n",
      "Index: 5532, Long Name: Severino Pedro Santos Hermes, position ST, CF\n",
      "Index: 5820, Long Name: Ricardo Daniel Pepi, position ST\n",
      "\n",
      "Label: 7\n",
      "Index: 26, Long Name: N'Golo Kanté, position CDM, CM\n",
      "Index: 35, Long Name: Andrew Robertson, position LB\n",
      "Index: 49, Long Name: Fábio Henrique Tavares, position CDM\n",
      "Index: 66, Long Name: Kyle Walker, position RB\n",
      "Index: 84, Long Name: Theo Bernard François Hernández, position LB\n",
      "\n",
      "Label: 8\n",
      "Index: 2838, Long Name: Junior Alexis Hernández Angulo, position LB\n",
      "Index: 3500, Long Name: アペルカンプ 真大 カール, position CAM, LM, CM\n",
      "Index: 3512, Long Name: Patrik Wålemark, position RW, LW\n",
      "Index: 3349, Long Name: Luca Zanimacchia, position RM\n",
      "Index: 4002, Long Name: Alexis Arias Tuesta, position CM, CDM, CAM\n",
      "\n",
      "Label: 9\n",
      "Index: 982, Long Name: Jadson José Meireles Correia, position CDM, CM\n",
      "Index: 1762, Long Name: Pietro Beruatto, position LB\n",
      "Index: 3265, Long Name: Alam Cristian Boas Anjos, position CDM, CM, CB\n",
      "Index: 3495, Long Name: Salis Abdul Samed, position CDM, CM\n",
      "Index: 3806, Long Name: Didier Andrés Moreno Asprilla, position CDM, CM\n",
      "\n",
      "Label: 10\n",
      "Index: 460, Long Name: Laureano Thomas Santeiro Marre, position CAM, LM, LW\n",
      "Index: 626, Long Name: Marcus Edwards, position RW, LW, ST\n",
      "Index: 662, Long Name: Yeremy Jesús Pino Santos, position RM, ST, LM\n",
      "Index: 548, Long Name: Jesús Joaquín Fernández Sáez de la Torre, position RW\n",
      "Index: 776, Long Name: Alberto Marcelo Dutra Cirino, position LW, LM\n",
      "\n",
      "Label: 11\n",
      "Index: 6674, Long Name: Marko Lešković, position CB\n",
      "Index: 6834, Long Name: Santiago Brunelli Llorca, position CB\n",
      "Index: 7849, Long Name: Shawn Adewoye, position CB\n",
      "Index: 8016, Long Name: Mohamed Aidara, position CB\n",
      "Index: 8347, Long Name: Sebastian Nachreiner, position CB\n",
      "\n",
      "Label: 12\n",
      "Index: 9, Long Name: Carlos Henrique Venancio Casimiro, position CDM\n",
      "Index: 37, Long Name: Rodrigo Hernández Cascante, position CDM\n",
      "Index: 38, Long Name: Thiago Emiliano da Silva, position CB\n",
      "Index: 52, Long Name: Aymeric Laporte, position CB\n",
      "Index: 68, Long Name: Sergio Busquets i Burgos, position CDM\n",
      "\n",
      "Label: 13\n",
      "Index: 24, Long Name: Marcos Aoás Corrêa, position CB\n",
      "Index: 141, Long Name: Éder Gabriel Militão, position CB\n",
      "Index: 123, Long Name: Lucas François Bernard Hernández Pi, position CB, LB\n",
      "Index: 227, Long Name: Gabriel Armando de Abreu, position CB\n",
      "Index: 261, Long Name: Denzel Justus Morris Dumfries, position RWB, RM\n",
      "\n",
      "Label: 14\n",
      "Index: 6813, Long Name: Aleksa Terzić, position LB\n",
      "Index: 6982, Long Name: Agustín Cayetano, position LB, LWB\n",
      "Index: 6866, Long Name: Javier López Carballo, position LB\n",
      "Index: 7745, Long Name: Sanasi Sy, position LWB, LM, LB\n",
      "Index: 7996, Long Name: Kevin Rolón, position LB, LM, LWB\n",
      "\n",
      "Label: 15\n",
      "Index: 12, Long Name: Virgil van Dijk, position CB\n",
      "Index: 29, Long Name: Rúben dos Santos Gato Alves Dias, position CB\n",
      "Index: 32, Long Name: Antonio Rüdiger, position CB\n",
      "Index: 48, Long Name: Kalidou Koulibaly, position CB\n",
      "Index: 59, Long Name: Milan Škriniar, position CB\n",
      "\n",
      "Label: 16\n",
      "Index: 17, Long Name: Erling Braut Haaland, position ST\n",
      "Index: 69, Long Name: Romelu Lukaku Menama, position ST\n",
      "Index: 96, Long Name: Edin Džeko, position ST\n",
      "Index: 133, Long Name: Patrik Schick, position ST\n",
      "Index: 147, Long Name: Dušan Vlahović, position ST\n",
      "\n",
      "Label: 17\n",
      "Index: 6997, Long Name: Facundo Buonanotte, position CAM, RM, CM\n",
      "Index: 8075, Long Name: Nicolás Ferreira, position RW, CAM\n",
      "Index: 8058, Long Name: Ilias Akhomach Chakkour, position RW\n",
      "Index: 8951, Long Name: Kabelo Dlamini, position LW, RW, CAM\n",
      "Index: 9049, Long Name: Logan Delaurier-Chaubet, position LW, RW\n",
      "\n",
      "Label: 18\n",
      "Index: 1067, Long Name: Ante Budimir, position ST\n",
      "Index: 1696, Long Name: Bernardo Nicolás Cuesta, position ST\n",
      "Index: 1964, Long Name: Philipp Hofmann, position ST\n",
      "Index: 2043, Long Name: Mbaye Diagne, position ST\n",
      "Index: 2692, Long Name: Lucas Höler, position ST, CF\n",
      "\n",
      "Label: 19\n",
      "Index: 2317, Long Name: Lorenzo Cinterio, position RW, ST\n",
      "Index: 2868, Long Name: Ilaix Moriba, position CM\n",
      "Index: 3191, Long Name: Andrea Conti, position RB\n",
      "Index: 3240, Long Name: Gerrit Holtmann, position LM, LW, RW\n",
      "Index: 3261, Long Name: Gustavo Rafael Lobateiro Gomes, position CAM, ST, CF\n",
      "\n",
      "Label: 20\n",
      "Index: 637, Long Name: Guglielmo Vicario, position GK\n",
      "Index: 822, Long Name: Predrag Rajković, position GK\n",
      "Index: 885, Long Name: Frederik Riis Rønnow, position GK\n",
      "Index: 1760, Long Name: Ersin Destanoğlu, position GK\n",
      "Index: 2023, Long Name: Yury Lodygin, position GK\n",
      "\n",
      "Label: 21\n",
      "Index: 805, Long Name: Jiří Pavlenka, position GK\n",
      "Index: 845, Long Name: Giorgi Mamardashvili, position GK\n",
      "Index: 1749, Long Name: Georgiy Bushchan, position GK\n",
      "Index: 1789, Long Name: Marco Carnesecchi, position GK\n",
      "Index: 1819, Long Name: Aleš Mandous, position GK\n",
      "\n",
      "Label: 22\n",
      "Index: 2634, Long Name: Thiago Marcos Rolim Nascimento, position LW, LM\n",
      "Index: 2776, Long Name: Linton Maina, position LM, RM, ST\n",
      "Index: 3394, Long Name: Robin Hack, position LM, CAM, CF\n",
      "Index: 3513, Long Name: Juan Danilo Santacruz González, position CAM, RM, LM\n",
      "Index: 3503, Long Name: Nathanaël Mbuku, position CF, RM, CAM\n",
      "\n",
      "Label: 23\n",
      "Index: 3, Long Name: Kevin De Bruyne, position CM, CAM\n",
      "Index: 15, Long Name: Joshua Walter Kimmich, position CDM, RB, CM\n",
      "Index: 19, Long Name: Luka Modrić, position CM\n",
      "Index: 20, Long Name: Toni Kroos, position CM\n",
      "Index: 25, Long Name: João Pedro Cavaco Cancelo, position LB, RB\n",
      "\n",
      "Label: 24\n",
      "Index: 1299, Long Name: Tyrick Mitchell, position LB\n",
      "Index: 2276, Long Name: Luke Thomas, position LB, LWB\n",
      "Index: 2268, Long Name: Manuel Sánchez de la Peña, position LB, LWB, LM\n",
      "Index: 2615, Long Name: Caio Welson Chissano Dourado, position LB, LM\n",
      "Index: 2777, Long Name: Joseph Scally, position RB, LB\n",
      "\n",
      "Label: 25\n",
      "Index: 2006, Long Name: Jean-Charles Castelletto, position CB\n",
      "Index: 2161, Long Name: Carlos Eccehomo Cuesta Figueroa, position CB\n",
      "Index: 2702, Long Name: Jorge Renato Praceira Diniz, position CB\n",
      "Index: 2728, Long Name: Leo Skiri Østigård, position CB\n",
      "Index: 2747, Long Name: Sandro Leonardo Morales, position CB, RB\n",
      "\n",
      "Label: 26\n",
      "Index: 201, Long Name: Raúl Albiol Tortajada, position CB\n",
      "Index: 379, Long Name: José Miguel da Rocha Fonte, position CB\n",
      "Index: 669, Long Name: Angelo Obinze Ogbonna, position CB\n",
      "Index: 680, Long Name: Craig Dawson, position CB\n",
      "Index: 715, Long Name: Michael Keane, position CB\n",
      "\n",
      "Label: 27\n",
      "Index: 8013, Long Name: Gustavo Sangaré, position CDM, CM\n",
      "Index: 10268, Long Name: Michał Kaput, position CDM\n",
      "Index: 10297, Long Name: Álvaro Bastida Moya, position CDM, CM\n",
      "Index: 10030, Long Name: Hugo Lorenzo Quintana Escobar, position CM\n",
      "Index: 11366, Long Name: Kenji Cabrera, position CM, LM, LW\n",
      "\n",
      "Label: 28\n",
      "Index: 5, Long Name: Thibaut Nicolas Marc Courtois, position GK\n",
      "Index: 10, Long Name: Jan Oblak, position GK\n",
      "Index: 14, Long Name: Ederson Santana de Moraes, position GK\n",
      "Index: 16, Long Name: Alisson Ramsés Becker, position GK\n",
      "Index: 7, Long Name: Manuel Peter Neuer, position GK\n",
      "\n",
      "Label: 29\n",
      "Index: 769, Long Name: Joseph Aidoo, position CB\n",
      "Index: 1304, Long Name: Igor Júlio dos Santos de Paulo, position CB\n",
      "Index: 1209, Long Name: Vitor Hugo Franchescoli de Souza, position CB\n",
      "Index: 1583, Long Name: Stefan Posch, position CB, RB\n",
      "Index: 1671, Long Name: Diogo Filipe Monteiro Pinto Leite, position CB\n",
      "\n",
      "Label: 30\n",
      "Index: 375, Long Name: Jeremie Agyekum Frimpong, position RB, RWB, RM\n",
      "Index: 495, Long Name: Sergio Reguilón Rodríguez, position LWB, LB\n",
      "Index: 503, Long Name: Nuno Alexandre Tavares Mendes, position LB, LWB\n",
      "Index: 458, Long Name: Maikel Renan Catarino Fagundes, position RB, RM\n",
      "Index: 550, Long Name: Héctor Bellerín Moruno, position RB\n",
      "\n",
      "Label: 31\n",
      "Index: 0, Long Name: Lionel Andrés Messi Cuccittini, position RW\n",
      "Index: 2, Long Name: Robert Lewandowski, position ST\n",
      "Index: 4, Long Name: Kylian Mbappé Lottin, position ST, LW\n",
      "Index: 1, Long Name: Karim Benzema, position CF, ST\n",
      "Index: 6, Long Name: Mohamed Salah Ghaly, position RW\n"
     ]
    }
   ],
   "source": [
    "def print_best_rows_by_label(dataframe):\n",
    "    # Group the DataFrame by the 'label' column\n",
    "    grouped_data = dataframe.groupby('label')\n",
    "\n",
    "    # Iterate over groups\n",
    "    for label, group in grouped_data:\n",
    "        print(f\"\\nLabel: {label}\")\n",
    "\n",
    "        # Sort the rows within each group based on the 'overall' column\n",
    "        sorted_group = group.sort_values(by='overall', ascending=False)\n",
    "\n",
    "        # Select the top 5 rows\n",
    "        top_rows = sorted_group.head(5)\n",
    "\n",
    "        # Print the 'long_name' values for the selected rows\n",
    "        for index, row in top_rows.iterrows():\n",
    "            print(f\"Index: {index}, Long Name: {row['long_name']}, position {row['player_positions']}\")\n",
    "\n",
    "\n",
    "# Call the function\n",
    "print_best_rows_by_label(data)\n"
   ]
  },
  {
   "cell_type": "code",
   "execution_count": 15,
   "metadata": {},
   "outputs": [],
   "source": [
    "data.to_csv('/Users/michele/code/micheledeantoni/APP/back-end/raw_data/labelled_data_v1.csv')\n"
   ]
  },
  {
   "cell_type": "code",
   "execution_count": 13,
   "metadata": {},
   "outputs": [
    {
     "name": "stdout",
     "output_type": "stream",
     "text": [
      "The closest player to the player of interest is:\n",
      "1081              Fredrik Midtsjø\n",
      "130159     Allan Marques Loureiro\n",
      "1664      Rodrigo Germán Aliendro\n",
      "173                 Konrad Laimer\n",
      "1584               Dorukhan Toköz\n",
      "Name: long_name, dtype: object\n"
     ]
    }
   ],
   "source": [
    "import numpy as np\n",
    "\n",
    "# Assuming 'data' is your main DataFrame with k-means labels and 'Xproj3' is a separate DataFrame\n",
    "\n",
    "# Step 1: Choose a Player\n",
    "player_of_interest_index = 26  # Replace with the index of the player you're interested in\n",
    "\n",
    "# Step 2: Get the Cluster Assignment of the Player of Interest\n",
    "cluster_of_interest = data.loc[player_of_interest_index, 'label']\n",
    "\n",
    "# Step 3: Filter Data for the Same Cluster\n",
    "cluster_indices = np.where(data['label'] == cluster_of_interest)[0]\n",
    "\n",
    "# Step 4: Calculate Distances\n",
    "distances = np.linalg.norm(X_tsne[cluster_indices] - X_tsne[player_of_interest_index], axis=1)\n",
    "\n",
    "# Step 5: Identify the Closest Player\n",
    "# Step 5: Identify the 5 Closest Players\n",
    "closest_player_indices = cluster_indices[np.argsort(distances)[1:6]]\n",
    "closest_players = data.iloc[closest_player_indices]\n",
    "\n",
    "print(f\"The closest player to the player of interest is:\\n{closest_players['long_name']}\")\n"
   ]
  },
  {
   "cell_type": "code",
   "execution_count": 141,
   "metadata": {},
   "outputs": [
    {
     "name": "stderr",
     "output_type": "stream",
     "text": [
      "/Users/michele/.pyenv/versions/3.10.6/envs/APP/lib/python3.10/site-packages/fuzzywuzzy/fuzz.py:11: UserWarning: Using slow pure-python SequenceMatcher. Install python-Levenshtein to remove this warning\n",
      "  warnings.warn('Using slow pure-python SequenceMatcher. Install python-Levenshtein to remove this warning')\n"
     ]
    }
   ],
   "source": [
    "import pandas as pd\n",
    "from fuzzywuzzy import process\n",
    "\n",
    "def find_best_match(data, column_name='long_name'):\n",
    "    # Ask for user input\n",
    "    user_input = input(\"Enter the player's name: \")\n",
    "\n",
    "    # Get a list of possible matches and their scores\n",
    "    possibilities = process.extract(user_input, data[column_name], limit=5)\n",
    "\n",
    "    # Display the possibilities to the user\n",
    "    print(\"Possible matches:\")\n",
    "    for i, (match, score) in enumerate(possibilities):\n",
    "        print(f\"{i + 1}. {match} (Score: {score})\")\n",
    "\n",
    "    # If there's only one possibility or a clear winner, return it\n",
    "    if possibilities[0][1] > 90:\n",
    "        return possibilities[0][0]\n",
    "\n",
    "    # Ask the user to choose from the list if there are multiple possibilities\n",
    "    user_choice = input(\"Enter the number corresponding to the correct player: \")\n",
    "    chosen_index = int(user_choice) - 1\n",
    "\n",
    "    # Return the chosen player\n",
    "    return possibilities[chosen_index][0]\n",
    "\n",
    "# Example usage:\n",
    "# Assuming 'data' is your DataFrame with a 'long_name' column\n",
    "# best_match = find_best_match(data)\n",
    "# print(f\"The best match is: {best_match}\")\n"
   ]
  },
  {
   "cell_type": "code",
   "execution_count": 142,
   "metadata": {},
   "outputs": [],
   "source": [
    "find_best_match(data)\n"
   ]
  },
  {
   "cell_type": "code",
   "execution_count": null,
   "metadata": {},
   "outputs": [],
   "source": [
    "import pandas as pd\n",
    "from fuzzywuzzy import process\n",
    "from multiprocessing import cpu_count\n",
    "\n",
    "def find_best_match(data, column_name='long_name'):\n",
    "    # Ask for user input\n",
    "    user_input = input(\"Enter the player's name: \")\n",
    "\n",
    "    # Get a list of possible matches and their scores using parallel processing\n",
    "    possibilities = process.extract(user_input, data[column_name], limit=5, scorer=process.extract, processor=cpu_count())\n",
    "\n",
    "    # Display the possibilities to the user\n",
    "    print(\"Possible matches:\")\n",
    "    for i, (match, score) in enumerate(possibilities):\n",
    "        print(f\"{i + 1}. {match} (Score: {score})\")\n",
    "\n",
    "    # If there's only one possibility or a clear winner, return it\n",
    "    if possibilities[0][1] > 90:\n",
    "        return possibilities[0][0]\n",
    "\n",
    "    # Ask the user to choose from the list if there are multiple possibilities\n",
    "    user_choice = input(\"Enter the number corresponding to the correct player: \")\n",
    "    chosen_index = int(user_choice) - 1\n",
    "\n",
    "    # Return the chosen player\n",
    "    return possibilities[chosen_index][0]\n",
    "\n",
    "# Example usage:\n",
    "# Assuming 'data' is your DataFrame with a 'long_name' column\n",
    "# best_match = find_best_match(data)\n",
    "# print(f\"The best match is: {best_match}\")\n"
   ]
  }
 ],
 "metadata": {
  "kernelspec": {
   "display_name": "APP",
   "language": "python",
   "name": "python3"
  },
  "language_info": {
   "codemirror_mode": {
    "name": "ipython",
    "version": 3
   },
   "file_extension": ".py",
   "mimetype": "text/x-python",
   "name": "python",
   "nbconvert_exporter": "python",
   "pygments_lexer": "ipython3",
   "version": "3.10.6"
  }
 },
 "nbformat": 4,
 "nbformat_minor": 2
}
