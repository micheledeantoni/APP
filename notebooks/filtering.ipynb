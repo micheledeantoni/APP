{
 "cells": [
  {
   "cell_type": "code",
   "execution_count": 65,
   "metadata": {},
   "outputs": [],
   "source": [
    "import sys\n",
    "sys.path.append(\"/Users/michele/code/micheledeantoni/APP\")\n"
   ]
  },
  {
   "cell_type": "code",
   "execution_count": 66,
   "metadata": {},
   "outputs": [],
   "source": [
    "import pandas as pd\n",
    "from player_profiling import data\n",
    "import requests\n",
    "import time\n"
   ]
  },
  {
   "cell_type": "code",
   "execution_count": 67,
   "metadata": {},
   "outputs": [],
   "source": [
    "data = data.load_data_fifa23()\n"
   ]
  },
  {
   "cell_type": "code",
   "execution_count": 68,
   "metadata": {},
   "outputs": [
    {
     "data": {
      "text/html": [
       "<div>\n",
       "<style scoped>\n",
       "    .dataframe tbody tr th:only-of-type {\n",
       "        vertical-align: middle;\n",
       "    }\n",
       "\n",
       "    .dataframe tbody tr th {\n",
       "        vertical-align: top;\n",
       "    }\n",
       "\n",
       "    .dataframe thead th {\n",
       "        text-align: right;\n",
       "    }\n",
       "</style>\n",
       "<table border=\"1\" class=\"dataframe\">\n",
       "  <thead>\n",
       "    <tr style=\"text-align: right;\">\n",
       "      <th></th>\n",
       "      <th>player_id</th>\n",
       "      <th>player_url</th>\n",
       "      <th>fifa_version</th>\n",
       "      <th>fifa_update</th>\n",
       "      <th>fifa_update_date</th>\n",
       "      <th>short_name</th>\n",
       "      <th>long_name</th>\n",
       "      <th>player_positions</th>\n",
       "      <th>overall</th>\n",
       "      <th>potential</th>\n",
       "      <th>...</th>\n",
       "      <th>cdm</th>\n",
       "      <th>rdm</th>\n",
       "      <th>rwb</th>\n",
       "      <th>lb</th>\n",
       "      <th>lcb</th>\n",
       "      <th>cb</th>\n",
       "      <th>rcb</th>\n",
       "      <th>rb</th>\n",
       "      <th>gk</th>\n",
       "      <th>player_face_url</th>\n",
       "    </tr>\n",
       "  </thead>\n",
       "  <tbody>\n",
       "    <tr>\n",
       "      <th>0</th>\n",
       "      <td>158023</td>\n",
       "      <td>/player/158023/lionel-messi/230009</td>\n",
       "      <td>23</td>\n",
       "      <td>9</td>\n",
       "      <td>2023-01-13</td>\n",
       "      <td>L. Messi</td>\n",
       "      <td>Lionel Andrés Messi Cuccittini</td>\n",
       "      <td>RW</td>\n",
       "      <td>91</td>\n",
       "      <td>91</td>\n",
       "      <td>...</td>\n",
       "      <td>63+3</td>\n",
       "      <td>63+3</td>\n",
       "      <td>64+3</td>\n",
       "      <td>59+3</td>\n",
       "      <td>50+3</td>\n",
       "      <td>50+3</td>\n",
       "      <td>50+3</td>\n",
       "      <td>59+3</td>\n",
       "      <td>19+3</td>\n",
       "      <td>https://cdn.sofifa.net/players/158/023/23_120.png</td>\n",
       "    </tr>\n",
       "    <tr>\n",
       "      <th>1</th>\n",
       "      <td>165153</td>\n",
       "      <td>/player/165153/karim-benzema/230009</td>\n",
       "      <td>23</td>\n",
       "      <td>9</td>\n",
       "      <td>2023-01-13</td>\n",
       "      <td>K. Benzema</td>\n",
       "      <td>Karim Benzema</td>\n",
       "      <td>CF, ST</td>\n",
       "      <td>91</td>\n",
       "      <td>91</td>\n",
       "      <td>...</td>\n",
       "      <td>64+3</td>\n",
       "      <td>64+3</td>\n",
       "      <td>64+3</td>\n",
       "      <td>60+3</td>\n",
       "      <td>55+3</td>\n",
       "      <td>55+3</td>\n",
       "      <td>55+3</td>\n",
       "      <td>60+3</td>\n",
       "      <td>18+3</td>\n",
       "      <td>https://cdn.sofifa.net/players/165/153/23_120.png</td>\n",
       "    </tr>\n",
       "    <tr>\n",
       "      <th>2</th>\n",
       "      <td>188545</td>\n",
       "      <td>/player/188545/robert-lewandowski/230009</td>\n",
       "      <td>23</td>\n",
       "      <td>9</td>\n",
       "      <td>2023-01-13</td>\n",
       "      <td>R. Lewandowski</td>\n",
       "      <td>Robert Lewandowski</td>\n",
       "      <td>ST</td>\n",
       "      <td>91</td>\n",
       "      <td>91</td>\n",
       "      <td>...</td>\n",
       "      <td>66+3</td>\n",
       "      <td>66+3</td>\n",
       "      <td>64+3</td>\n",
       "      <td>61+3</td>\n",
       "      <td>60+3</td>\n",
       "      <td>60+3</td>\n",
       "      <td>60+3</td>\n",
       "      <td>61+3</td>\n",
       "      <td>19+3</td>\n",
       "      <td>https://cdn.sofifa.net/players/188/545/23_120.png</td>\n",
       "    </tr>\n",
       "    <tr>\n",
       "      <th>3</th>\n",
       "      <td>192985</td>\n",
       "      <td>/player/192985/kevin-de-bruyne/230009</td>\n",
       "      <td>23</td>\n",
       "      <td>9</td>\n",
       "      <td>2023-01-13</td>\n",
       "      <td>K. De Bruyne</td>\n",
       "      <td>Kevin De Bruyne</td>\n",
       "      <td>CM, CAM</td>\n",
       "      <td>91</td>\n",
       "      <td>91</td>\n",
       "      <td>...</td>\n",
       "      <td>79+3</td>\n",
       "      <td>79+3</td>\n",
       "      <td>78+3</td>\n",
       "      <td>74+3</td>\n",
       "      <td>68+3</td>\n",
       "      <td>68+3</td>\n",
       "      <td>68+3</td>\n",
       "      <td>74+3</td>\n",
       "      <td>21+3</td>\n",
       "      <td>https://cdn.sofifa.net/players/192/985/23_120.png</td>\n",
       "    </tr>\n",
       "    <tr>\n",
       "      <th>4</th>\n",
       "      <td>231747</td>\n",
       "      <td>/player/231747/kylian-mbappe/230009</td>\n",
       "      <td>23</td>\n",
       "      <td>9</td>\n",
       "      <td>2023-01-13</td>\n",
       "      <td>K. Mbappé</td>\n",
       "      <td>Kylian Mbappé Lottin</td>\n",
       "      <td>ST, LW</td>\n",
       "      <td>91</td>\n",
       "      <td>95</td>\n",
       "      <td>...</td>\n",
       "      <td>63+3</td>\n",
       "      <td>63+3</td>\n",
       "      <td>67+3</td>\n",
       "      <td>63+3</td>\n",
       "      <td>54+3</td>\n",
       "      <td>54+3</td>\n",
       "      <td>54+3</td>\n",
       "      <td>63+3</td>\n",
       "      <td>18+3</td>\n",
       "      <td>https://cdn.sofifa.net/players/231/747/23_120.png</td>\n",
       "    </tr>\n",
       "  </tbody>\n",
       "</table>\n",
       "<p>5 rows × 110 columns</p>\n",
       "</div>"
      ],
      "text/plain": [
       "   player_id                                player_url  fifa_version  \\\n",
       "0     158023        /player/158023/lionel-messi/230009            23   \n",
       "1     165153       /player/165153/karim-benzema/230009            23   \n",
       "2     188545  /player/188545/robert-lewandowski/230009            23   \n",
       "3     192985     /player/192985/kevin-de-bruyne/230009            23   \n",
       "4     231747       /player/231747/kylian-mbappe/230009            23   \n",
       "\n",
       "   fifa_update fifa_update_date      short_name  \\\n",
       "0            9       2023-01-13        L. Messi   \n",
       "1            9       2023-01-13      K. Benzema   \n",
       "2            9       2023-01-13  R. Lewandowski   \n",
       "3            9       2023-01-13    K. De Bruyne   \n",
       "4            9       2023-01-13       K. Mbappé   \n",
       "\n",
       "                        long_name player_positions  overall  potential  ...  \\\n",
       "0  Lionel Andrés Messi Cuccittini               RW       91         91  ...   \n",
       "1                   Karim Benzema           CF, ST       91         91  ...   \n",
       "2              Robert Lewandowski               ST       91         91  ...   \n",
       "3                 Kevin De Bruyne          CM, CAM       91         91  ...   \n",
       "4            Kylian Mbappé Lottin           ST, LW       91         95  ...   \n",
       "\n",
       "    cdm   rdm   rwb    lb   lcb    cb   rcb    rb    gk  \\\n",
       "0  63+3  63+3  64+3  59+3  50+3  50+3  50+3  59+3  19+3   \n",
       "1  64+3  64+3  64+3  60+3  55+3  55+3  55+3  60+3  18+3   \n",
       "2  66+3  66+3  64+3  61+3  60+3  60+3  60+3  61+3  19+3   \n",
       "3  79+3  79+3  78+3  74+3  68+3  68+3  68+3  74+3  21+3   \n",
       "4  63+3  63+3  67+3  63+3  54+3  54+3  54+3  63+3  18+3   \n",
       "\n",
       "                                     player_face_url  \n",
       "0  https://cdn.sofifa.net/players/158/023/23_120.png  \n",
       "1  https://cdn.sofifa.net/players/165/153/23_120.png  \n",
       "2  https://cdn.sofifa.net/players/188/545/23_120.png  \n",
       "3  https://cdn.sofifa.net/players/192/985/23_120.png  \n",
       "4  https://cdn.sofifa.net/players/231/747/23_120.png  \n",
       "\n",
       "[5 rows x 110 columns]"
      ]
     },
     "execution_count": 68,
     "metadata": {},
     "output_type": "execute_result"
    }
   ],
   "source": [
    "data.head()\n"
   ]
  },
  {
   "cell_type": "code",
   "execution_count": 43,
   "metadata": {},
   "outputs": [],
   "source": [
    "\n",
    "def find_continent(country):\n",
    "    url = 'https://restcountries.com/v3.1/name/'\n",
    "    response = requests.get(url + country)\n",
    "    #time.sleep(2)\n",
    "    if response.status_code == 200:\n",
    "        return response.json()[0]['region']\n",
    "    else:\n",
    "        return 'Other'\n"
   ]
  },
  {
   "cell_type": "code",
   "execution_count": 44,
   "metadata": {},
   "outputs": [
    {
     "data": {
      "text/plain": [
       "143"
      ]
     },
     "execution_count": 44,
     "metadata": {},
     "output_type": "execute_result"
    }
   ],
   "source": [
    "len(data['nationality_name'].unique())"
   ]
  },
  {
   "cell_type": "code",
   "execution_count": 45,
   "metadata": {},
   "outputs": [
    {
     "name": "stdout",
     "output_type": "stream",
     "text": [
      "iteration 1 / 143\n"
     ]
    },
    {
     "name": "stdout",
     "output_type": "stream",
     "text": [
      "iteration 2 / 143\n",
      "iteration 3 / 143\n",
      "iteration 4 / 143\n",
      "iteration 5 / 143\n",
      "iteration 6 / 143\n",
      "iteration 7 / 143\n",
      "iteration 8 / 143\n",
      "iteration 9 / 143\n",
      "iteration 10 / 143\n",
      "iteration 11 / 143\n",
      "iteration 12 / 143\n",
      "iteration 13 / 143\n",
      "iteration 14 / 143\n",
      "iteration 15 / 143\n",
      "iteration 16 / 143\n",
      "iteration 17 / 143\n",
      "iteration 18 / 143\n",
      "iteration 19 / 143\n",
      "iteration 20 / 143\n",
      "iteration 21 / 143\n",
      "iteration 22 / 143\n",
      "iteration 23 / 143\n",
      "iteration 24 / 143\n",
      "iteration 25 / 143\n",
      "iteration 26 / 143\n",
      "iteration 27 / 143\n",
      "iteration 28 / 143\n",
      "iteration 29 / 143\n",
      "iteration 30 / 143\n",
      "iteration 31 / 143\n",
      "iteration 32 / 143\n",
      "iteration 33 / 143\n",
      "iteration 34 / 143\n",
      "iteration 35 / 143\n",
      "iteration 36 / 143\n",
      "iteration 37 / 143\n",
      "iteration 38 / 143\n",
      "iteration 39 / 143\n",
      "iteration 40 / 143\n",
      "iteration 41 / 143\n",
      "iteration 42 / 143\n",
      "iteration 43 / 143\n",
      "iteration 44 / 143\n",
      "iteration 45 / 143\n",
      "iteration 46 / 143\n",
      "iteration 47 / 143\n",
      "iteration 48 / 143\n",
      "iteration 49 / 143\n",
      "iteration 50 / 143\n",
      "iteration 51 / 143\n",
      "iteration 52 / 143\n",
      "iteration 53 / 143\n",
      "iteration 54 / 143\n",
      "iteration 55 / 143\n",
      "iteration 56 / 143\n",
      "iteration 57 / 143\n",
      "iteration 58 / 143\n",
      "iteration 59 / 143\n",
      "iteration 60 / 143\n",
      "iteration 61 / 143\n",
      "iteration 62 / 143\n",
      "iteration 63 / 143\n",
      "iteration 64 / 143\n",
      "iteration 65 / 143\n",
      "iteration 66 / 143\n",
      "iteration 67 / 143\n",
      "iteration 68 / 143\n",
      "iteration 69 / 143\n",
      "iteration 70 / 143\n",
      "iteration 71 / 143\n",
      "iteration 72 / 143\n",
      "iteration 73 / 143\n",
      "iteration 74 / 143\n",
      "iteration 75 / 143\n",
      "iteration 76 / 143\n",
      "iteration 77 / 143\n",
      "iteration 78 / 143\n",
      "iteration 79 / 143\n",
      "iteration 80 / 143\n",
      "iteration 81 / 143\n",
      "iteration 82 / 143\n",
      "iteration 83 / 143\n",
      "iteration 84 / 143\n",
      "iteration 85 / 143\n",
      "iteration 86 / 143\n",
      "iteration 87 / 143\n",
      "iteration 88 / 143\n",
      "iteration 89 / 143\n",
      "iteration 90 / 143\n",
      "iteration 91 / 143\n",
      "iteration 92 / 143\n",
      "iteration 93 / 143\n",
      "iteration 94 / 143\n",
      "iteration 95 / 143\n",
      "iteration 96 / 143\n",
      "iteration 97 / 143\n",
      "iteration 98 / 143\n",
      "iteration 99 / 143\n",
      "iteration 100 / 143\n",
      "iteration 101 / 143\n",
      "iteration 102 / 143\n",
      "iteration 103 / 143\n",
      "iteration 104 / 143\n",
      "iteration 105 / 143\n",
      "iteration 106 / 143\n",
      "iteration 107 / 143\n",
      "iteration 108 / 143\n",
      "iteration 109 / 143\n",
      "iteration 110 / 143\n",
      "iteration 111 / 143\n",
      "iteration 112 / 143\n",
      "iteration 113 / 143\n",
      "iteration 114 / 143\n",
      "iteration 115 / 143\n",
      "iteration 116 / 143\n",
      "iteration 117 / 143\n",
      "iteration 118 / 143\n",
      "iteration 119 / 143\n",
      "iteration 120 / 143\n",
      "iteration 121 / 143\n",
      "iteration 122 / 143\n",
      "iteration 123 / 143\n",
      "iteration 124 / 143\n",
      "iteration 125 / 143\n",
      "iteration 126 / 143\n",
      "iteration 127 / 143\n",
      "iteration 128 / 143\n",
      "iteration 129 / 143\n",
      "iteration 130 / 143\n",
      "iteration 131 / 143\n",
      "iteration 132 / 143\n",
      "iteration 133 / 143\n",
      "iteration 134 / 143\n",
      "iteration 135 / 143\n",
      "iteration 136 / 143\n",
      "iteration 137 / 143\n",
      "iteration 138 / 143\n",
      "iteration 139 / 143\n",
      "iteration 140 / 143\n",
      "iteration 141 / 143\n",
      "iteration 142 / 143\n",
      "iteration 143 / 143\n"
     ]
    }
   ],
   "source": [
    "cont_dict = {}\n",
    "count = 0\n",
    "for c in data['nationality_name'].unique():\n",
    "    count += 1\n",
    "    print(f\"iteration {count} / {len(data['nationality_name'].unique())}\")\n",
    "    cont_dict[c]=find_continent(c)"
   ]
  },
  {
   "cell_type": "code",
   "execution_count": 46,
   "metadata": {},
   "outputs": [],
   "source": [
    "import json\n",
    "# Save dictionary to a file\n",
    "with open('my_dict.json', 'w') as file:\n",
    "    json.dump(cont_dict, file)"
   ]
  },
  {
   "cell_type": "code",
   "execution_count": 69,
   "metadata": {},
   "outputs": [],
   "source": [
    "data['Continent']= data['nationality_name'].map(cont_dict)"
   ]
  },
  {
   "cell_type": "code",
   "execution_count": 70,
   "metadata": {},
   "outputs": [
    {
     "data": {
      "text/html": [
       "<div>\n",
       "<style scoped>\n",
       "    .dataframe tbody tr th:only-of-type {\n",
       "        vertical-align: middle;\n",
       "    }\n",
       "\n",
       "    .dataframe tbody tr th {\n",
       "        vertical-align: top;\n",
       "    }\n",
       "\n",
       "    .dataframe thead th {\n",
       "        text-align: right;\n",
       "    }\n",
       "</style>\n",
       "<table border=\"1\" class=\"dataframe\">\n",
       "  <thead>\n",
       "    <tr style=\"text-align: right;\">\n",
       "      <th></th>\n",
       "      <th>short_name</th>\n",
       "      <th>league_level</th>\n",
       "    </tr>\n",
       "  </thead>\n",
       "  <tbody>\n",
       "    <tr>\n",
       "      <th>0</th>\n",
       "      <td>L. Messi</td>\n",
       "      <td>1.0</td>\n",
       "    </tr>\n",
       "    <tr>\n",
       "      <th>1</th>\n",
       "      <td>K. Benzema</td>\n",
       "      <td>1.0</td>\n",
       "    </tr>\n",
       "    <tr>\n",
       "      <th>2</th>\n",
       "      <td>R. Lewandowski</td>\n",
       "      <td>1.0</td>\n",
       "    </tr>\n",
       "    <tr>\n",
       "      <th>3</th>\n",
       "      <td>K. De Bruyne</td>\n",
       "      <td>1.0</td>\n",
       "    </tr>\n",
       "    <tr>\n",
       "      <th>4</th>\n",
       "      <td>K. Mbappé</td>\n",
       "      <td>1.0</td>\n",
       "    </tr>\n",
       "  </tbody>\n",
       "</table>\n",
       "</div>"
      ],
      "text/plain": [
       "       short_name  league_level\n",
       "0        L. Messi           1.0\n",
       "1      K. Benzema           1.0\n",
       "2  R. Lewandowski           1.0\n",
       "3    K. De Bruyne           1.0\n",
       "4       K. Mbappé           1.0"
      ]
     },
     "execution_count": 70,
     "metadata": {},
     "output_type": "execute_result"
    }
   ],
   "source": [
    "data.head()[['short_name', 'league_level']]"
   ]
  },
  {
   "cell_type": "code",
   "execution_count": 56,
   "metadata": {},
   "outputs": [
    {
     "data": {
      "text/plain": [
       "league_level\n",
       "1.0             76.666667\n",
       "2.0             19.274924\n",
       "3.0              3.796576\n",
       "4.0              0.241692\n",
       "5.0              0.020141\n",
       "dtype: float64"
      ]
     },
     "execution_count": 56,
     "metadata": {},
     "output_type": "execute_result"
    }
   ],
   "source": [
    "data[['league_level']].value_counts(normalize=True)*100"
   ]
  },
  {
   "cell_type": "code",
   "execution_count": null,
   "metadata": {},
   "outputs": [],
   "source": [
    "def player_experience (age):\n",
    "    if age <= 20:\n",
    "        return 'Prospect'\n",
    "    elif age > 20 and age <= 25:\n",
    "        return 'Emerging Talent'\n",
    "    elif age > 25 and age <= 30:\n",
    "        return 'Established Player'\n",
    "    elif age > 30 and age <= 35:\n",
    "        return 'Peak Performance':\n",
    "    else:\n",
    "        return 'Experienced Campaigner'\n",
    "    "
   ]
  },
  {
   "cell_type": "code",
   "execution_count": 118,
   "metadata": {},
   "outputs": [],
   "source": [
    "def ultimate_filtering (data, compressed_data, continent = None, experience = None, \n",
    "                        wage_range = None, league_level = None):\n",
    "    if continent:\n",
    "        data = data[data['Continent']== continent]\n",
    "    \n",
    "    if experience:\n",
    "        data = data[data['experience'] == experience]\n",
    "        \n",
    "    if experience:\n",
    "        data = data[data['wage_range'] == wage_range]\n",
    "        \n",
    "    if experience:\n",
    "        data = data[data['league_level'] == league_level]\n",
    "        \n",
    "    compressed_data = compressed_data[compressed_data.index.isin(data.index)]\n",
    "    \n",
    "    return data, compressed_data"
   ]
  },
  {
   "cell_type": "code",
   "execution_count": 72,
   "metadata": {},
   "outputs": [],
   "source": [
    "from player_profiling import preprocessor"
   ]
  },
  {
   "cell_type": "code",
   "execution_count": 73,
   "metadata": {},
   "outputs": [
    {
     "name": "stderr",
     "output_type": "stream",
     "text": [
      "/Users/michele/.pyenv/versions/3.10.6/envs/APP/lib/python3.10/site-packages/pandas/core/generic.py:6392: SettingWithCopyWarning: \n",
      "A value is trying to be set on a copy of a slice from a DataFrame\n",
      "\n",
      "See the caveats in the documentation: https://pandas.pydata.org/pandas-docs/stable/user_guide/indexing.html#returning-a-view-versus-a-copy\n",
      "  return self._update_inplace(result)\n"
     ]
    }
   ],
   "source": [
    "data_f = preprocessor.filter_data(data)"
   ]
  },
  {
   "cell_type": "code",
   "execution_count": 74,
   "metadata": {},
   "outputs": [],
   "source": [
    "data_p = preprocessor.preprocess(data_f)"
   ]
  },
  {
   "cell_type": "code",
   "execution_count": 75,
   "metadata": {},
   "outputs": [
    {
     "name": "stdout",
     "output_type": "stream",
     "text": [
      "RangeIndex(start=0, stop=54, step=1)\n"
     ]
    }
   ],
   "source": [
    "data_compressed = preprocessor.preprocess_tsne(data_p)"
   ]
  },
  {
   "cell_type": "code",
   "execution_count": 82,
   "metadata": {},
   "outputs": [],
   "source": [
    "from player_profiling import model "
   ]
  },
  {
   "cell_type": "code",
   "execution_count": 83,
   "metadata": {},
   "outputs": [],
   "source": [
    "kmodel = model.initialize_model_kmeans()\n"
   ]
  },
  {
   "cell_type": "code",
   "execution_count": 85,
   "metadata": {},
   "outputs": [
    {
     "name": "stderr",
     "output_type": "stream",
     "text": [
      "/Users/michele/.pyenv/versions/3.10.6/envs/APP/lib/python3.10/site-packages/sklearn/cluster/_kmeans.py:1416: FutureWarning: The default value of `n_init` will change from 10 to 'auto' in 1.4. Set the value of `n_init` explicitly to suppress the warning\n",
      "  super()._check_params_vs_input(X, default_n_init=10)\n"
     ]
    }
   ],
   "source": [
    "fitted_model = model.fit_model(kmodel, data_compressed)"
   ]
  },
  {
   "cell_type": "code",
   "execution_count": 89,
   "metadata": {},
   "outputs": [],
   "source": [
    "data['label']=fitted_model.labels_"
   ]
  },
  {
   "cell_type": "code",
   "execution_count": 90,
   "metadata": {},
   "outputs": [],
   "source": [
    "from player_profiling.utils import *"
   ]
  },
  {
   "cell_type": "code",
   "execution_count": 98,
   "metadata": {},
   "outputs": [],
   "source": [
    "index = find_player_index('Messi', data).index[0]"
   ]
  },
  {
   "cell_type": "code",
   "execution_count": 119,
   "metadata": {},
   "outputs": [],
   "source": [
    "data['idx'] =  data.index\n",
    "data_compressed=pd.DataFrame(data_compressed)\n",
    "data_compressed['idx'] =  data_compressed.index"
   ]
  },
  {
   "cell_type": "code",
   "execution_count": 124,
   "metadata": {},
   "outputs": [],
   "source": [
    "data_u, data_compressed_u = ultimate_filtering(data, data_compressed, continent='Africa')"
   ]
  },
  {
   "cell_type": "code",
   "execution_count": 125,
   "metadata": {},
   "outputs": [
    {
     "data": {
      "text/plain": [
       "Index([0, 1, 2, 'idx'], dtype='object')"
      ]
     },
     "execution_count": 125,
     "metadata": {},
     "output_type": "execute_result"
    }
   ],
   "source": [
    "data_compressed_u.columns"
   ]
  },
  {
   "cell_type": "code",
   "execution_count": 126,
   "metadata": {},
   "outputs": [
    {
     "ename": "KeyError",
     "evalue": "0",
     "output_type": "error",
     "traceback": [
      "\u001b[0;31m---------------------------------------------------------------------------\u001b[0m",
      "\u001b[0;31mKeyError\u001b[0m                                  Traceback (most recent call last)",
      "File \u001b[0;32m~/.pyenv/versions/3.10.6/envs/APP/lib/python3.10/site-packages/pandas/core/indexes/base.py:3361\u001b[0m, in \u001b[0;36mIndex.get_loc\u001b[0;34m(self, key, method, tolerance)\u001b[0m\n\u001b[1;32m   3360\u001b[0m \u001b[39mtry\u001b[39;00m:\n\u001b[0;32m-> 3361\u001b[0m     \u001b[39mreturn\u001b[39;00m \u001b[39mself\u001b[39;49m\u001b[39m.\u001b[39;49m_engine\u001b[39m.\u001b[39;49mget_loc(casted_key)\n\u001b[1;32m   3362\u001b[0m \u001b[39mexcept\u001b[39;00m \u001b[39mKeyError\u001b[39;00m \u001b[39mas\u001b[39;00m err:\n",
      "File \u001b[0;32m~/.pyenv/versions/3.10.6/envs/APP/lib/python3.10/site-packages/pandas/_libs/index.pyx:76\u001b[0m, in \u001b[0;36mpandas._libs.index.IndexEngine.get_loc\u001b[0;34m()\u001b[0m\n",
      "File \u001b[0;32m~/.pyenv/versions/3.10.6/envs/APP/lib/python3.10/site-packages/pandas/_libs/index.pyx:108\u001b[0m, in \u001b[0;36mpandas._libs.index.IndexEngine.get_loc\u001b[0;34m()\u001b[0m\n",
      "File \u001b[0;32mpandas/_libs/hashtable_class_helper.pxi:2131\u001b[0m, in \u001b[0;36mpandas._libs.hashtable.Int64HashTable.get_item\u001b[0;34m()\u001b[0m\n",
      "File \u001b[0;32mpandas/_libs/hashtable_class_helper.pxi:2140\u001b[0m, in \u001b[0;36mpandas._libs.hashtable.Int64HashTable.get_item\u001b[0;34m()\u001b[0m\n",
      "\u001b[0;31mKeyError\u001b[0m: 0",
      "\nThe above exception was the direct cause of the following exception:\n",
      "\u001b[0;31mKeyError\u001b[0m                                  Traceback (most recent call last)",
      "\u001b[1;32m/Users/michele/code/micheledeantoni/APP/notebooks/filtering.ipynb Cell 27\u001b[0m line \u001b[0;36m1\n\u001b[0;32m----> <a href='vscode-notebook-cell:/Users/michele/code/micheledeantoni/APP/notebooks/filtering.ipynb#X32sZmlsZQ%3D%3D?line=0'>1</a>\u001b[0m find_closest_players(index, data_u, data_compressed_u)\n",
      "File \u001b[0;32m~/code/micheledeantoni/APP/player_profiling/utils.py:19\u001b[0m, in \u001b[0;36mfind_closest_players\u001b[0;34m(player_index, raw_data, compressed_data)\u001b[0m\n\u001b[1;32m     16\u001b[0m player_of_interest_index \u001b[39m=\u001b[39m player_index  \u001b[39m# Replace with the index of the player you're interested in\u001b[39;00m\n\u001b[1;32m     18\u001b[0m \u001b[39m# Step 2: Get the Cluster Assignment of the Player of Interest\u001b[39;00m\n\u001b[0;32m---> 19\u001b[0m cluster_of_interest \u001b[39m=\u001b[39m raw_data\u001b[39m.\u001b[39;49mloc[player_of_interest_index, \u001b[39m'\u001b[39;49m\u001b[39mlabel\u001b[39;49m\u001b[39m'\u001b[39;49m]\n\u001b[1;32m     21\u001b[0m \u001b[39m# Step 3: Filter Data for the Same Cluster\u001b[39;00m\n\u001b[1;32m     22\u001b[0m cluster_indices \u001b[39m=\u001b[39m np\u001b[39m.\u001b[39mwhere(raw_data[\u001b[39m'\u001b[39m\u001b[39mlabel\u001b[39m\u001b[39m'\u001b[39m] \u001b[39m==\u001b[39m cluster_of_interest)[\u001b[39m0\u001b[39m]\n",
      "File \u001b[0;32m~/.pyenv/versions/3.10.6/envs/APP/lib/python3.10/site-packages/pandas/core/indexing.py:925\u001b[0m, in \u001b[0;36m_LocationIndexer.__getitem__\u001b[0;34m(self, key)\u001b[0m\n\u001b[1;32m    923\u001b[0m         \u001b[39mwith\u001b[39;00m suppress(\u001b[39mKeyError\u001b[39;00m, \u001b[39mIndexError\u001b[39;00m):\n\u001b[1;32m    924\u001b[0m             \u001b[39mreturn\u001b[39;00m \u001b[39mself\u001b[39m\u001b[39m.\u001b[39mobj\u001b[39m.\u001b[39m_get_value(\u001b[39m*\u001b[39mkey, takeable\u001b[39m=\u001b[39m\u001b[39mself\u001b[39m\u001b[39m.\u001b[39m_takeable)\n\u001b[0;32m--> 925\u001b[0m     \u001b[39mreturn\u001b[39;00m \u001b[39mself\u001b[39;49m\u001b[39m.\u001b[39;49m_getitem_tuple(key)\n\u001b[1;32m    926\u001b[0m \u001b[39melse\u001b[39;00m:\n\u001b[1;32m    927\u001b[0m     \u001b[39m# we by definition only have the 0th axis\u001b[39;00m\n\u001b[1;32m    928\u001b[0m     axis \u001b[39m=\u001b[39m \u001b[39mself\u001b[39m\u001b[39m.\u001b[39maxis \u001b[39mor\u001b[39;00m \u001b[39m0\u001b[39m\n",
      "File \u001b[0;32m~/.pyenv/versions/3.10.6/envs/APP/lib/python3.10/site-packages/pandas/core/indexing.py:1100\u001b[0m, in \u001b[0;36m_LocIndexer._getitem_tuple\u001b[0;34m(self, tup)\u001b[0m\n\u001b[1;32m   1098\u001b[0m \u001b[39mdef\u001b[39;00m \u001b[39m_getitem_tuple\u001b[39m(\u001b[39mself\u001b[39m, tup: \u001b[39mtuple\u001b[39m):\n\u001b[1;32m   1099\u001b[0m     \u001b[39mwith\u001b[39;00m suppress(IndexingError):\n\u001b[0;32m-> 1100\u001b[0m         \u001b[39mreturn\u001b[39;00m \u001b[39mself\u001b[39;49m\u001b[39m.\u001b[39;49m_getitem_lowerdim(tup)\n\u001b[1;32m   1102\u001b[0m     \u001b[39m# no multi-index, so validate all of the indexers\u001b[39;00m\n\u001b[1;32m   1103\u001b[0m     \u001b[39mself\u001b[39m\u001b[39m.\u001b[39m_has_valid_tuple(tup)\n",
      "File \u001b[0;32m~/.pyenv/versions/3.10.6/envs/APP/lib/python3.10/site-packages/pandas/core/indexing.py:838\u001b[0m, in \u001b[0;36m_LocationIndexer._getitem_lowerdim\u001b[0;34m(self, tup)\u001b[0m\n\u001b[1;32m    834\u001b[0m \u001b[39mfor\u001b[39;00m i, key \u001b[39min\u001b[39;00m \u001b[39menumerate\u001b[39m(tup):\n\u001b[1;32m    835\u001b[0m     \u001b[39mif\u001b[39;00m is_label_like(key):\n\u001b[1;32m    836\u001b[0m         \u001b[39m# We don't need to check for tuples here because those are\u001b[39;00m\n\u001b[1;32m    837\u001b[0m         \u001b[39m#  caught by the _is_nested_tuple_indexer check above.\u001b[39;00m\n\u001b[0;32m--> 838\u001b[0m         section \u001b[39m=\u001b[39m \u001b[39mself\u001b[39;49m\u001b[39m.\u001b[39;49m_getitem_axis(key, axis\u001b[39m=\u001b[39;49mi)\n\u001b[1;32m    840\u001b[0m         \u001b[39m# We should never have a scalar section here, because\u001b[39;00m\n\u001b[1;32m    841\u001b[0m         \u001b[39m#  _getitem_lowerdim is only called after a check for\u001b[39;00m\n\u001b[1;32m    842\u001b[0m         \u001b[39m#  is_scalar_access, which that would be.\u001b[39;00m\n\u001b[1;32m    843\u001b[0m         \u001b[39mif\u001b[39;00m section\u001b[39m.\u001b[39mndim \u001b[39m==\u001b[39m \u001b[39mself\u001b[39m\u001b[39m.\u001b[39mndim:\n\u001b[1;32m    844\u001b[0m             \u001b[39m# we're in the middle of slicing through a MultiIndex\u001b[39;00m\n\u001b[1;32m    845\u001b[0m             \u001b[39m# revise the key wrt to `section` by inserting an _NS\u001b[39;00m\n",
      "File \u001b[0;32m~/.pyenv/versions/3.10.6/envs/APP/lib/python3.10/site-packages/pandas/core/indexing.py:1164\u001b[0m, in \u001b[0;36m_LocIndexer._getitem_axis\u001b[0;34m(self, key, axis)\u001b[0m\n\u001b[1;32m   1162\u001b[0m \u001b[39m# fall thru to straight lookup\u001b[39;00m\n\u001b[1;32m   1163\u001b[0m \u001b[39mself\u001b[39m\u001b[39m.\u001b[39m_validate_key(key, axis)\n\u001b[0;32m-> 1164\u001b[0m \u001b[39mreturn\u001b[39;00m \u001b[39mself\u001b[39;49m\u001b[39m.\u001b[39;49m_get_label(key, axis\u001b[39m=\u001b[39;49maxis)\n",
      "File \u001b[0;32m~/.pyenv/versions/3.10.6/envs/APP/lib/python3.10/site-packages/pandas/core/indexing.py:1113\u001b[0m, in \u001b[0;36m_LocIndexer._get_label\u001b[0;34m(self, label, axis)\u001b[0m\n\u001b[1;32m   1111\u001b[0m \u001b[39mdef\u001b[39;00m \u001b[39m_get_label\u001b[39m(\u001b[39mself\u001b[39m, label, axis: \u001b[39mint\u001b[39m):\n\u001b[1;32m   1112\u001b[0m     \u001b[39m# GH#5667 this will fail if the label is not present in the axis.\u001b[39;00m\n\u001b[0;32m-> 1113\u001b[0m     \u001b[39mreturn\u001b[39;00m \u001b[39mself\u001b[39;49m\u001b[39m.\u001b[39;49mobj\u001b[39m.\u001b[39;49mxs(label, axis\u001b[39m=\u001b[39;49maxis)\n",
      "File \u001b[0;32m~/.pyenv/versions/3.10.6/envs/APP/lib/python3.10/site-packages/pandas/core/generic.py:3776\u001b[0m, in \u001b[0;36mNDFrame.xs\u001b[0;34m(self, key, axis, level, drop_level)\u001b[0m\n\u001b[1;32m   3774\u001b[0m         \u001b[39mraise\u001b[39;00m \u001b[39mTypeError\u001b[39;00m(\u001b[39mf\u001b[39m\u001b[39m\"\u001b[39m\u001b[39mExpected label or tuple of labels, got \u001b[39m\u001b[39m{\u001b[39;00mkey\u001b[39m}\u001b[39;00m\u001b[39m\"\u001b[39m) \u001b[39mfrom\u001b[39;00m \u001b[39me\u001b[39;00m\n\u001b[1;32m   3775\u001b[0m \u001b[39melse\u001b[39;00m:\n\u001b[0;32m-> 3776\u001b[0m     loc \u001b[39m=\u001b[39m index\u001b[39m.\u001b[39;49mget_loc(key)\n\u001b[1;32m   3778\u001b[0m     \u001b[39mif\u001b[39;00m \u001b[39misinstance\u001b[39m(loc, np\u001b[39m.\u001b[39mndarray):\n\u001b[1;32m   3779\u001b[0m         \u001b[39mif\u001b[39;00m loc\u001b[39m.\u001b[39mdtype \u001b[39m==\u001b[39m np\u001b[39m.\u001b[39mbool_:\n",
      "File \u001b[0;32m~/.pyenv/versions/3.10.6/envs/APP/lib/python3.10/site-packages/pandas/core/indexes/base.py:3363\u001b[0m, in \u001b[0;36mIndex.get_loc\u001b[0;34m(self, key, method, tolerance)\u001b[0m\n\u001b[1;32m   3361\u001b[0m         \u001b[39mreturn\u001b[39;00m \u001b[39mself\u001b[39m\u001b[39m.\u001b[39m_engine\u001b[39m.\u001b[39mget_loc(casted_key)\n\u001b[1;32m   3362\u001b[0m     \u001b[39mexcept\u001b[39;00m \u001b[39mKeyError\u001b[39;00m \u001b[39mas\u001b[39;00m err:\n\u001b[0;32m-> 3363\u001b[0m         \u001b[39mraise\u001b[39;00m \u001b[39mKeyError\u001b[39;00m(key) \u001b[39mfrom\u001b[39;00m \u001b[39merr\u001b[39;00m\n\u001b[1;32m   3365\u001b[0m \u001b[39mif\u001b[39;00m is_scalar(key) \u001b[39mand\u001b[39;00m isna(key) \u001b[39mand\u001b[39;00m \u001b[39mnot\u001b[39;00m \u001b[39mself\u001b[39m\u001b[39m.\u001b[39mhasnans:\n\u001b[1;32m   3366\u001b[0m     \u001b[39mraise\u001b[39;00m \u001b[39mKeyError\u001b[39;00m(key)\n",
      "\u001b[0;31mKeyError\u001b[0m: 0"
     ]
    }
   ],
   "source": [
    "find_closest_players(index, data_u, data_compressed_u)"
   ]
  },
  {
   "cell_type": "code",
   "execution_count": null,
   "metadata": {},
   "outputs": [],
   "source": []
  }
 ],
 "metadata": {
  "kernelspec": {
   "display_name": "Python 3",
   "language": "python",
   "name": "python3"
  },
  "language_info": {
   "codemirror_mode": {
    "name": "ipython",
    "version": 3
   },
   "file_extension": ".py",
   "mimetype": "text/x-python",
   "name": "python",
   "nbconvert_exporter": "python",
   "pygments_lexer": "ipython3",
   "version": "3.10.6"
  }
 },
 "nbformat": 4,
 "nbformat_minor": 2
}
